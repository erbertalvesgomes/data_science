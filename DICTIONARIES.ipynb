{
  "nbformat": 4,
  "nbformat_minor": 0,
  "metadata": {
    "colab": {
      "provenance": [],
      "authorship_tag": "ABX9TyOqJ7f54rRJALWT8RHJLvZw",
      "include_colab_link": true
    },
    "kernelspec": {
      "name": "python3",
      "display_name": "Python 3"
    },
    "language_info": {
      "name": "python"
    }
  },
  "cells": [
    {
      "cell_type": "markdown",
      "metadata": {
        "id": "view-in-github",
        "colab_type": "text"
      },
      "source": [
        "<a href=\"https://colab.research.google.com/github/erbertalvesgomes/data_science/blob/main/DICTIONARIES.ipynb\" target=\"_parent\"><img src=\"https://colab.research.google.com/assets/colab-badge.svg\" alt=\"Open In Colab\"/></a>"
      ]
    },
    {
      "cell_type": "code",
      "execution_count": null,
      "metadata": {
        "colab": {
          "base_uri": "https://localhost:8080/"
        },
        "id": "e7pxXqIaMXYZ",
        "outputId": "df1f94b7-55cb-4ee6-ff77-811f13d9ea55"
      },
      "outputs": [
        {
          "output_type": "stream",
          "name": "stdout",
          "text": [
            "sold out\n"
          ]
        }
      ],
      "source": [
        "# DICTIONARIES\n",
        "# Dictionary values can be lists, so to access individual attributes:\n",
        "#1 - Retrieve the list by looking up its key\n",
        "#2 - Retrieve the list element by using its index\n",
        "#3 - You can conduct membership tests on dictionary keys (True and False)\n",
        "\n",
        "inventory_status =[['skis','in stock'],['snowboard','sold out'],\n",
        "                   ['googles','sold out'],['boots','in stock']]\n",
        "\n",
        "#print(inventory_status[3][0])\n",
        "item_looking_for = 'googles'\n",
        "\n",
        "for item in inventory_status:\n",
        "  if item[0] == item_looking_for:\n",
        "    print(item[1])\n",
        "\n"
      ]
    },
    {
      "cell_type": "code",
      "source": [
        "inventory = {'skis':'in stock',\n",
        "            'snowboard':'sold out',\n",
        "             'goggles':'sold out',\n",
        "             'boots':'in stock'}\n",
        "inventory['goggles'] # To retrieve dictionary values, simply enter the associated key\n"
      ],
      "metadata": {
        "colab": {
          "base_uri": "https://localhost:8080/",
          "height": 35
        },
        "id": "fjaEOljBjx0W",
        "outputId": "c82a589a-cfed-465d-e7ce-78bdb6b85b5f"
      },
      "execution_count": null,
      "outputs": [
        {
          "output_type": "execute_result",
          "data": {
            "text/plain": [
              "'sold out'"
            ],
            "application/vnd.google.colaboratory.intrinsic+json": {
              "type": "string"
            }
          },
          "metadata": {},
          "execution_count": 9
        }
      ]
    },
    {
      "cell_type": "code",
      "source": [
        "# Dictionary values can be lists, so to access individual attributes:\n",
        "# 1 - Retrieve the list by looking up its key\n",
        "# 2 - Retrieve the list element by using its index\n",
        "\n",
        "item_details = {'skis':[250,10,'in stock'],\n",
        "                'snowboard':[220,0,'sold out'],\n",
        "                'goggles':[100,0,'sold out'],\n",
        "                'boots':[80,7,'in stock']}\n",
        "\n",
        "item_details['skis']\n"
      ],
      "metadata": {
        "colab": {
          "base_uri": "https://localhost:8080/"
        },
        "id": "h5Ny0-W5ks8t",
        "outputId": "5e47b2a2-d76f-4cd2-c6f2-4e14510ccfa8"
      },
      "execution_count": null,
      "outputs": [
        {
          "output_type": "execute_result",
          "data": {
            "text/plain": [
              "[250, 10, 'in stock']"
            ]
          },
          "metadata": {},
          "execution_count": 10
        }
      ]
    },
    {
      "cell_type": "code",
      "source": [
        "item_details['skis'][2]\n"
      ],
      "metadata": {
        "colab": {
          "base_uri": "https://localhost:8080/",
          "height": 35
        },
        "id": "OqDngncKk1Q9",
        "outputId": "e11949d9-ccc2-4955-dd2f-e98586c22d36"
      },
      "execution_count": null,
      "outputs": [
        {
          "output_type": "execute_result",
          "data": {
            "text/plain": [
              "'in stock'"
            ],
            "application/vnd.google.colaboratory.intrinsic+json": {
              "type": "string"
            }
          },
          "metadata": {},
          "execution_count": 12
        }
      ]
    },
    {
      "cell_type": "code",
      "source": [
        "print('skis' in item_details)\n",
        "print('bindings' in item_details)\n",
        "\n",
        "\n"
      ],
      "metadata": {
        "colab": {
          "base_uri": "https://localhost:8080/"
        },
        "id": "ydHMDepDl5V2",
        "outputId": "bff4db51-14ea-49a5-8070-924d81a55368"
      },
      "execution_count": null,
      "outputs": [
        {
          "output_type": "stream",
          "name": "stdout",
          "text": [
            "True\n",
            "False\n"
          ]
        }
      ]
    },
    {
      "cell_type": "code",
      "source": [
        "# NOTE THAT THE ITEMS THAT ARE BEING LOOPED OVER ARE THE DICTIONARY KEYS\n",
        "for item in item_details:\n",
        "  print(item, item_details[item])\n",
        "\n",
        "# print(item_details[item]) - vai vir somente o valor\n",
        "# print (item) - vai vir somente o valor\n",
        "# print (item, item_details[item]) - vão vir chave e valor (resposta)"
      ],
      "metadata": {
        "colab": {
          "base_uri": "https://localhost:8080/"
        },
        "id": "uxjbGNRymFsX",
        "outputId": "64d05319-dfa4-475f-f93c-adeb4184ae7e"
      },
      "execution_count": null,
      "outputs": [
        {
          "output_type": "stream",
          "name": "stdout",
          "text": [
            "skis [250, 10, 'in stock']\n",
            "snowboard [220, 0, 'sold out']\n",
            "goggles [100, 0, 'sold out']\n",
            "boots [80, 7, 'in stock']\n"
          ]
        }
      ]
    },
    {
      "cell_type": "code",
      "source": [
        "# MODIFIYING DICTIONARIES\n",
        "# Referencing a new key and assigning it a value will add a new key-value pair\n",
        "# while referencing and existing key will overwrite the existing pair.\n",
        "item_details['bindings'] = [149,4,'in stock']\n"
      ],
      "metadata": {
        "id": "wrJvw6GFmYcJ"
      },
      "execution_count": null,
      "outputs": []
    },
    {
      "cell_type": "code",
      "source": [
        "item_details"
      ],
      "metadata": {
        "colab": {
          "base_uri": "https://localhost:8080/"
        },
        "id": "BGXauPU6oEBo",
        "outputId": "2f957a36-4828-404e-e158-890f630e8fdc"
      },
      "execution_count": null,
      "outputs": [
        {
          "output_type": "execute_result",
          "data": {
            "text/plain": [
              "{'skis': [250, 10, 'in stock'],\n",
              " 'snowboard': [220, 0, 'sold out'],\n",
              " 'goggles': [100, 0, 'sold out'],\n",
              " 'boots': [80, 7, 'in stock'],\n",
              " 'bindings': [149, 4, 'in stock']}"
            ]
          },
          "metadata": {},
          "execution_count": 23
        }
      ]
    },
    {
      "cell_type": "code",
      "source": [
        "item_details['bindings'] = [140,0,'sold out']\n",
        "item_details\n",
        "del item_details['bindings']\n",
        "item_details\n",
        "\n"
      ],
      "metadata": {
        "colab": {
          "base_uri": "https://localhost:8080/"
        },
        "id": "qY2f2uPCx5aC",
        "outputId": "6fc35a37-41df-4021-a2dc-72423a3053c5"
      },
      "execution_count": null,
      "outputs": [
        {
          "output_type": "execute_result",
          "data": {
            "text/plain": [
              "{'skis': [250, 10, 'in stock'],\n",
              " 'snowboard': [220, 0, 'sold out'],\n",
              " 'goggles': [100, 0, 'sold out'],\n",
              " 'boots': [80, 7, 'in stock']}"
            ]
          },
          "metadata": {},
          "execution_count": 33
        }
      ]
    },
    {
      "cell_type": "code",
      "source": [
        "item_details['bindings'] = [140,0,'sold out']\n",
        "item_details\n"
      ],
      "metadata": {
        "colab": {
          "base_uri": "https://localhost:8080/"
        },
        "id": "SmIQo8MUyo2J",
        "outputId": "96a36e30-9522-42f1-fd65-08cdf49c02b8"
      },
      "execution_count": null,
      "outputs": [
        {
          "output_type": "execute_result",
          "data": {
            "text/plain": [
              "{'skis': [250, 10, 'in stock'],\n",
              " 'snowboard': [220, 0, 'sold out'],\n",
              " 'goggles': [100, 0, 'sold out'],\n",
              " 'boots': [80, 7, 'in stock'],\n",
              " 'bindings': [140, 0, 'sold out']}"
            ]
          },
          "metadata": {},
          "execution_count": 34
        }
      ]
    },
    {
      "cell_type": "code",
      "source": [
        "del item_details['boots']\n",
        "item_details"
      ],
      "metadata": {
        "colab": {
          "base_uri": "https://localhost:8080/"
        },
        "id": "bkBLa0Mvyztr",
        "outputId": "2d137334-12e3-4afa-aa78-681df1beaaa5"
      },
      "execution_count": null,
      "outputs": [
        {
          "output_type": "execute_result",
          "data": {
            "text/plain": [
              "{'skis': [250, 10, 'in stock'],\n",
              " 'snowboard': [220, 0, 'sold out'],\n",
              " 'goggles': [100, 0, 'sold out'],\n",
              " 'bindings': [140, 0, 'sold out']}"
            ]
          },
          "metadata": {},
          "execution_count": 35
        }
      ]
    },
    {
      "cell_type": "code",
      "source": [
        "# ASSIGNMENT\n",
        "snacks = {\n",
        "    'Sally':'Popcorn',\n",
        "    'Ricard':'Chocolate',\n",
        "    'Stuart':' Apple Pie',\n",
        "    'Jerry' :'Raisins',\n",
        "    'Sierra':'Peanut Butter Cookies'\n",
        "}\n",
        "\n",
        "# what Stuart's snack is?\n",
        "snacks['Stuart']\n"
      ],
      "metadata": {
        "colab": {
          "base_uri": "https://localhost:8080/",
          "height": 35
        },
        "id": "aRCiMNTVop9U",
        "outputId": "457154a0-0bff-48ae-b6f5-18da2a51676e"
      },
      "execution_count": null,
      "outputs": [
        {
          "output_type": "execute_result",
          "data": {
            "text/plain": [
              "' Apple Pie'"
            ],
            "application/vnd.google.colaboratory.intrinsic+json": {
              "type": "string"
            }
          },
          "metadata": {},
          "execution_count": 36
        }
      ]
    },
    {
      "cell_type": "code",
      "source": [
        "snacks['Alfie'] = ['Cheese and Crackers']\n",
        "snacks\n"
      ],
      "metadata": {
        "colab": {
          "base_uri": "https://localhost:8080/"
        },
        "id": "-sfYgHx7yxxM",
        "outputId": "9317ce4e-20d2-4839-97b3-a3225f21fc41"
      },
      "execution_count": null,
      "outputs": [
        {
          "output_type": "execute_result",
          "data": {
            "text/plain": [
              "{'Sally': 'Popcorn',\n",
              " 'Ricard': 'Chocolate',\n",
              " 'Stuart': ' Apple Pie',\n",
              " 'Jerry': 'Raisins',\n",
              " 'Sierra': 'Peanut Butter Cookies',\n",
              " 'Alfie': ['Cheese and Crackers']}"
            ]
          },
          "metadata": {},
          "execution_count": 37
        }
      ]
    },
    {
      "cell_type": "code",
      "source": [
        "\n",
        "snacks['Jerry'] = ['Fig Bars']\n",
        "snacks"
      ],
      "metadata": {
        "colab": {
          "base_uri": "https://localhost:8080/"
        },
        "id": "z5iRfpexqPzE",
        "outputId": "636c9ab6-b694-4adc-a93b-d4de970ba4e2"
      },
      "execution_count": null,
      "outputs": [
        {
          "output_type": "execute_result",
          "data": {
            "text/plain": [
              "{'Sally': 'Popcorn',\n",
              " 'Ricard': 'Chocolate',\n",
              " 'Stuart': ' Apple Pie',\n",
              " 'Jerry': ['Fig Bars'],\n",
              " 'Sierra': 'Peanut Butter Cookies',\n",
              " 'Alfie': ['Cheese and Crackers']}"
            ]
          },
          "metadata": {},
          "execution_count": 39
        }
      ]
    },
    {
      "cell_type": "code",
      "source": [
        "items = ['skis','snowboard','goggles','boots']\n",
        "inventory =[ 10,0,0,7]\n",
        "inventory_status = {}\n",
        "\n",
        "for i, item in enumerate(items):\n",
        "  if inventory[i] ==0:\n",
        "    inventory_status[item] = 'sold out'\n",
        "  else:\n",
        "    inventory_status[item] = 'in stock'\n",
        "\n",
        "inventory_status\n"
      ],
      "metadata": {
        "colab": {
          "base_uri": "https://localhost:8080/"
        },
        "id": "o47N6IOL14ri",
        "outputId": "2cc6bafb-d155-4d2d-975c-5c33fcdaca2a"
      },
      "execution_count": null,
      "outputs": [
        {
          "output_type": "execute_result",
          "data": {
            "text/plain": [
              "{'skis': 'in stock',\n",
              " 'snowboard': 'sold out',\n",
              " 'goggles': 'sold out',\n",
              " 'boots': 'in stock'}"
            ]
          },
          "metadata": {},
          "execution_count": 49
        }
      ]
    },
    {
      "cell_type": "code",
      "source": [
        "# MAVEN\n",
        "snacks = {'Sally':'Popcorn',\n",
        "          'Richard':'Ice cream',\n",
        "          'Stuart':'Apple Pie',\n",
        "          'Jerry':'Raisins',\n",
        "          'Sierra':'Peanut Butter Cookies'}\n",
        "snacks['Stuart']"
      ],
      "metadata": {
        "id": "87pd5mTTtZBv",
        "colab": {
          "base_uri": "https://localhost:8080/",
          "height": 35
        },
        "outputId": "6e2388f1-0fa0-4411-d7f7-47c4f9ab33bd"
      },
      "execution_count": null,
      "outputs": [
        {
          "output_type": "execute_result",
          "data": {
            "text/plain": [
              "'Apple Pie'"
            ],
            "application/vnd.google.colaboratory.intrinsic+json": {
              "type": "string"
            }
          },
          "metadata": {},
          "execution_count": 1
        }
      ]
    },
    {
      "cell_type": "code",
      "source": [
        "snacks['Alfie'] = ['Cheese and Crackers']\n",
        "snacks"
      ],
      "metadata": {
        "colab": {
          "base_uri": "https://localhost:8080/"
        },
        "id": "-eF41LR8CCUc",
        "outputId": "61ccb923-12ed-4269-8cb9-8a1ee6057944"
      },
      "execution_count": null,
      "outputs": [
        {
          "output_type": "execute_result",
          "data": {
            "text/plain": [
              "{'Sally': 'Popcorn',\n",
              " 'Richard': 'Ice cream',\n",
              " 'Stuart': 'Apple Pie',\n",
              " 'Jerry': 'Raisins',\n",
              " 'Sierra': 'Peanut Butter Cookies',\n",
              " 'Alfie': ['Cheese and Crackers']}"
            ]
          },
          "metadata": {},
          "execution_count": 2
        }
      ]
    },
    {
      "cell_type": "code",
      "source": [
        "snacks['Jarry'] = ['Fig Bars']\n",
        "snacks"
      ],
      "metadata": {
        "colab": {
          "base_uri": "https://localhost:8080/"
        },
        "id": "9ZWY8w4ZCSBr",
        "outputId": "90e46dfa-b1a1-48e6-ebbe-e0a67f7aaa7f"
      },
      "execution_count": null,
      "outputs": [
        {
          "output_type": "execute_result",
          "data": {
            "text/plain": [
              "{'Sally': 'Popcorn',\n",
              " 'Richard': 'Ice cream',\n",
              " 'Stuart': 'Apple Pie',\n",
              " 'Jerry': 'Raisins',\n",
              " 'Sierra': 'Peanut Butter Cookies',\n",
              " 'Alfie': ['Cheese and Crackers'],\n",
              " 'Jarry': ['Fig Bars']}"
            ]
          },
          "metadata": {},
          "execution_count": 3
        }
      ]
    },
    {
      "cell_type": "code",
      "source": [
        "snacks"
      ],
      "metadata": {
        "colab": {
          "base_uri": "https://localhost:8080/"
        },
        "id": "w_Cj4jGmCgd_",
        "outputId": "e7ea932f-fb69-426c-feff-77ea4190efe7"
      },
      "execution_count": null,
      "outputs": [
        {
          "output_type": "execute_result",
          "data": {
            "text/plain": [
              "{'Sally': 'Popcorn',\n",
              " 'Richard': 'Ice cream',\n",
              " 'Stuart': 'Apple Pie',\n",
              " 'Jerry': 'Raisins',\n",
              " 'Alfie': ['Cheese and Crackers'],\n",
              " 'Jarry': ['Fig Bars']}"
            ]
          },
          "metadata": {},
          "execution_count": 7
        }
      ]
    },
    {
      "cell_type": "code",
      "source": [
        "# DICTIONARY CREATION\n",
        "items = ['skins','snowboard','googles','boots']\n",
        "inventory = [10,0,0,7]\n",
        "inventory_status = {}\n",
        "\n",
        "for i, item in enumerate(items):\n",
        "  if inventory[i] == 0:\n",
        "    inventory_status[item] = 'Sold out'\n",
        "  else:\n",
        "    inventory_status[item] = 'in stock'\n",
        "inventory_status"
      ],
      "metadata": {
        "id": "KCbsiUndDdMD",
        "colab": {
          "base_uri": "https://localhost:8080/"
        },
        "outputId": "fe236310-f54f-4d19-d5f4-5aecc61b10a5"
      },
      "execution_count": null,
      "outputs": [
        {
          "output_type": "execute_result",
          "data": {
            "text/plain": [
              "{'skins': 'in stock',\n",
              " 'snowboard': 'Sold out',\n",
              " 'googles': 'Sold out',\n",
              " 'boots': 'in stock'}"
            ]
          },
          "metadata": {},
          "execution_count": 2
        }
      ]
    },
    {
      "cell_type": "code",
      "source": [
        "# DICTIONARY METHODS\n",
        "# KEYS - Returns the keys from a dictionary\n",
        "\n",
        "item_details = {'Skis':[250, 10, 'in stock'],\n",
        "                'Snowboard':[219, 0, 'Sold out'],\n",
        "                'Googles':[99.99, 0, 'Sold out'],\n",
        "                'Boots':[79.99,7,'in stock']}\n",
        "item_details.keys()"
      ],
      "metadata": {
        "colab": {
          "base_uri": "https://localhost:8080/"
        },
        "id": "0-Q-Mz_lnvss",
        "outputId": "636b5bf2-904d-4371-dd24-4a6c8e1bb5e2"
      },
      "execution_count": null,
      "outputs": [
        {
          "output_type": "execute_result",
          "data": {
            "text/plain": [
              "dict_keys(['Skis', 'Snowboard', 'Googles', 'Boots'])"
            ]
          },
          "metadata": {},
          "execution_count": 3
        }
      ]
    },
    {
      "cell_type": "code",
      "source": [
        "for item in item_details.keys():\n",
        "  print(item)\n"
      ],
      "metadata": {
        "colab": {
          "base_uri": "https://localhost:8080/"
        },
        "id": "LZ0ZVeZNw8ke",
        "outputId": "e258c2e3-7ead-479d-fd21-fe9d3710024e"
      },
      "execution_count": null,
      "outputs": [
        {
          "output_type": "stream",
          "name": "stdout",
          "text": [
            "Skis\n",
            "Snowboard\n",
            "Googles\n",
            "Boots\n"
          ]
        }
      ]
    },
    {
      "cell_type": "code",
      "source": [
        "key_list = list(item_details.keys())\n",
        "print(key_list)"
      ],
      "metadata": {
        "colab": {
          "base_uri": "https://localhost:8080/"
        },
        "id": "sieQAU3IyDes",
        "outputId": "c1029669-20c2-4960-9869-41e6cc84ce98"
      },
      "execution_count": null,
      "outputs": [
        {
          "output_type": "stream",
          "name": "stdout",
          "text": [
            "['Skins', 'Snowboard', 'Googles', 'Boots']\n"
          ]
        }
      ]
    },
    {
      "cell_type": "code",
      "source": [
        "# VALUES - returns the values from a dictionary\n",
        "item_details.values()"
      ],
      "metadata": {
        "colab": {
          "base_uri": "https://localhost:8080/"
        },
        "id": "0jc8qJ2_yOFJ",
        "outputId": "1df6cd5c-b4be-4dc2-d4a3-e3f81cf8043c"
      },
      "execution_count": null,
      "outputs": [
        {
          "output_type": "execute_result",
          "data": {
            "text/plain": [
              "dict_values([[250, 10, 'in stock'], [219, 0, 'Sold out'], [99.99, 0, 'Sold out'], [79.99, 7, 'in stock']])"
            ]
          },
          "metadata": {},
          "execution_count": 5
        }
      ]
    },
    {
      "cell_type": "code",
      "source": [
        "price_list = []\n",
        "\n",
        "for attribute in item_details.values():\n",
        "  price_list.append(attribute[0])\n",
        "price_list\n"
      ],
      "metadata": {
        "colab": {
          "base_uri": "https://localhost:8080/"
        },
        "id": "rVchamV2yrc5",
        "outputId": "b0718aa3-5c65-4c03-de43-776d7c76df98"
      },
      "execution_count": null,
      "outputs": [
        {
          "output_type": "execute_result",
          "data": {
            "text/plain": [
              "[250, 219, 99.99, 79.99]"
            ]
          },
          "metadata": {},
          "execution_count": 6
        }
      ]
    },
    {
      "cell_type": "code",
      "source": [
        "# ITEMS - Returns key-value pairs from a dictionary as a list of tuples\n",
        "item_details.items()"
      ],
      "metadata": {
        "colab": {
          "base_uri": "https://localhost:8080/"
        },
        "id": "YGOc6S_90O2o",
        "outputId": "087a1241-f394-40c2-eaf2-2a4d4a77865f"
      },
      "execution_count": null,
      "outputs": [
        {
          "output_type": "execute_result",
          "data": {
            "text/plain": [
              "dict_items([('Skins', [250, 10, 'in stock']), ('Snowboard', [219, 0, 'Sold out']), ('Googles', [99.99, 0, 'Sold out']), ('Boots', [79.99, 7, 'in stock'])])"
            ]
          },
          "metadata": {},
          "execution_count": 8
        }
      ]
    },
    {
      "cell_type": "code",
      "source": [
        "# you can unpack the tuple to retrieve individual keys and values\n",
        "for k, v in item_details.items():\n",
        "   print(f'{k} costs {v[0]} dollars')\n",
        "\n"
      ],
      "metadata": {
        "colab": {
          "base_uri": "https://localhost:8080/"
        },
        "id": "fpEIAa8x0nJM",
        "outputId": "09ce4fbe-0a08-4ce0-9a5d-2255819841a4"
      },
      "execution_count": null,
      "outputs": [
        {
          "output_type": "stream",
          "name": "stdout",
          "text": [
            "Skis costs 250 dollars\n",
            "Snowboard costs 219 dollars\n",
            "Googles costs 99.99 dollars\n",
            "Boots costs 79.99 dollars\n",
            "binding costs 140 dollars\n",
            "scarf costs 20 dollars\n",
            "snowpants costs N dollars\n"
          ]
        }
      ]
    },
    {
      "cell_type": "code",
      "source": [
        "for item, item_attributes in item_details.items():\n",
        "  print(f'The {item} costs {item_attributes[0]}')"
      ],
      "metadata": {
        "colab": {
          "base_uri": "https://localhost:8080/"
        },
        "id": "QkjA3Gea2O0M",
        "outputId": "fe4d4d85-a07f-4782-954b-56a86cf4c79e"
      },
      "execution_count": null,
      "outputs": [
        {
          "output_type": "stream",
          "name": "stdout",
          "text": [
            "The Skins costs 250\n",
            "The Snowboard costs 219\n",
            "The Googles costs 99.99\n",
            "The Boots costs 79.99\n"
          ]
        }
      ]
    },
    {
      "cell_type": "code",
      "source": [
        "# GET - Returns the values associated with a dictionary key\n",
        "# - It won't return a keyError if the key isn't found\n",
        "# - You can specify an optional value to return if the key is not found\n",
        "item_details.get('boots')"
      ],
      "metadata": {
        "id": "lauFaTrc4Ee1"
      },
      "execution_count": null,
      "outputs": []
    },
    {
      "cell_type": "code",
      "source": [
        "item_details.get(\"bindings\",\"Sorry we don't carry that item.\")"
      ],
      "metadata": {
        "colab": {
          "base_uri": "https://localhost:8080/",
          "height": 35
        },
        "id": "BHfigrz-5eZ6",
        "outputId": "03043b3c-cb47-4ef1-a3f6-e5e4c3274813"
      },
      "execution_count": null,
      "outputs": [
        {
          "output_type": "execute_result",
          "data": {
            "text/plain": [
              "\"Sorry we don't carry that item.\""
            ],
            "application/vnd.google.colaboratory.intrinsic+json": {
              "type": "string"
            }
          },
          "metadata": {},
          "execution_count": 12
        }
      ]
    },
    {
      "cell_type": "code",
      "source": [
        "# - UPDATE - Appends key-value pairs to a dictionary\n",
        "\n",
        "item_details.update({'bindings':[140,0,'out of stock']})\n",
        "item_details"
      ],
      "metadata": {
        "colab": {
          "base_uri": "https://localhost:8080/"
        },
        "id": "VKPCSRYz54H5",
        "outputId": "e02482b6-5f4a-4028-e2aa-f8427e4ca3c3"
      },
      "execution_count": null,
      "outputs": [
        {
          "output_type": "execute_result",
          "data": {
            "text/plain": [
              "{'Skis': [250, 10, 'in stock'],\n",
              " 'Snowboard': [219, 0, 'Sold out'],\n",
              " 'Googles': [99.99, 0, 'Sold out'],\n",
              " 'Boots': [79.99, 7, 'in stock'],\n",
              " 'binding': [140, 0, 'out of stock']}"
            ]
          },
          "metadata": {},
          "execution_count": 11
        }
      ]
    },
    {
      "cell_type": "code",
      "source": [
        "# Combining dictionaries\n",
        "# - As a reminder, dictionaries values do not need to be the same type\n",
        "# - Note that the value for snowpants is N/A, while the values for the rest of the keys are lists\n",
        "# -  This is the preferred way to combine dictionaries\n",
        "new_items = {'scarf':[20,100,'in stock'],\n",
        "             'snowpants':'N/A'}\n",
        "\n",
        "item_details.update(new_items)\n",
        "item_details\n",
        "\n"
      ],
      "metadata": {
        "colab": {
          "base_uri": "https://localhost:8080/"
        },
        "id": "eEUr2fwo6ocf",
        "outputId": "09f438d6-d9ca-4f02-e292-3f1f44b1cf1b"
      },
      "execution_count": null,
      "outputs": [
        {
          "output_type": "execute_result",
          "data": {
            "text/plain": [
              "{'Skis': [250, 10, 'in stock'],\n",
              " 'Snowboard': [219, 0, 'Sold out'],\n",
              " 'Googles': [99.99, 0, 'Sold out'],\n",
              " 'Boots': [79.99, 7, 'in stock'],\n",
              " 'binding': [140, 0, 'out of stock'],\n",
              " 'scarf': [20, 100, 'in stock'],\n",
              " 'snowpants': 'N/A'}"
            ]
          },
          "metadata": {},
          "execution_count": 12
        }
      ]
    },
    {
      "cell_type": "code",
      "source": [
        "# Aula Maven\n",
        "item_prices = {'skis':274.99,\n",
        "               'snowboard':219.99,\n",
        "               'googles':99.99,\n",
        "               'boots':[79.99,89.99]}\n",
        "item_prices['hat'] = 14.99\n",
        "item_prices"
      ],
      "metadata": {
        "id": "dlmbSkMj9zBe",
        "colab": {
          "base_uri": "https://localhost:8080/"
        },
        "outputId": "ad49955b-c8f3-4bcf-a0fc-27e06c80a752"
      },
      "execution_count": null,
      "outputs": [
        {
          "output_type": "execute_result",
          "data": {
            "text/plain": [
              "{'skis': 274.99,\n",
              " 'snowboard': 219.99,\n",
              " 'googles': 99.99,\n",
              " 'boots': [79.99, 89.99],\n",
              " 'hat': 14.99}"
            ]
          },
          "metadata": {},
          "execution_count": 3
        }
      ]
    },
    {
      "cell_type": "code",
      "source": [
        "item_prices.update({'Bindings':[139.99, 0 ,'Out of stock']})\n",
        "item_prices"
      ],
      "metadata": {
        "colab": {
          "base_uri": "https://localhost:8080/"
        },
        "id": "1vZsr2jRAAeW",
        "outputId": "73674fbf-66fa-471a-977c-436dfa9e5013"
      },
      "execution_count": null,
      "outputs": [
        {
          "output_type": "execute_result",
          "data": {
            "text/plain": [
              "{'skis': 274.99,\n",
              " 'snowboard': 219.99,\n",
              " 'googles': 99.99,\n",
              " 'boots': [79.99, 89.99],\n",
              " 'hat': 14.99,\n",
              " 'Bindigns': [139.99, 0, 'Out of stock'],\n",
              " 'Bindings': [139.99, 0, 'Out of stock']}"
            ]
          },
          "metadata": {},
          "execution_count": 6
        }
      ]
    },
    {
      "cell_type": "code",
      "source": [
        "new_items = ['Coffee','Helmet']\n",
        "new_prices = [5.99, 99.99]\n",
        "\n",
        "for i, item in enumerate(new_items):\n",
        "  item_prices[item] = new_prices[i]\n",
        "\n",
        "item_prices"
      ],
      "metadata": {
        "colab": {
          "base_uri": "https://localhost:8080/"
        },
        "id": "X6Jr9siDAXxM",
        "outputId": "42258bc0-029b-4493-dbe9-56223935637a"
      },
      "execution_count": null,
      "outputs": [
        {
          "output_type": "execute_result",
          "data": {
            "text/plain": [
              "{'skis': 274.99,\n",
              " 'snowboard': 219.99,\n",
              " 'googles': 99.99,\n",
              " 'boots': [79.99, 89.99],\n",
              " 'hat': 14.99,\n",
              " 'Bindigns': [139.99, 0, 'Out of stock'],\n",
              " 'Bindings': [139.99, 0, 'Out of stock'],\n",
              " 'Coffee': 5.99,\n",
              " 'Helmet': 99.99}"
            ]
          },
          "metadata": {},
          "execution_count": 7
        }
      ]
    },
    {
      "cell_type": "code",
      "source": [
        "# DICTIONARY METHODS\n",
        "# ITEMS - Returns key-value pairs from a dictionary as a list of tuples\n",
        "item_details = {'skis':[249.99,10],\n",
        "                'snowboard':[219.99,0],\n",
        "                'Goggles':[99,0],\n",
        "                'boots':[79.99,0]}\n",
        "item_details.items()\n"
      ],
      "metadata": {
        "id": "9a5LtWXMBJYw",
        "colab": {
          "base_uri": "https://localhost:8080/"
        },
        "outputId": "d87a2896-1791-4c1d-fe5c-83b8e9402019"
      },
      "execution_count": null,
      "outputs": [
        {
          "output_type": "execute_result",
          "data": {
            "text/plain": [
              "dict_items([('skis', [249.99, 10]), ('snowboard', [219.99, 0]), ('Goggles', [99, 0]), ('boots', [79.99, 0])])"
            ]
          },
          "metadata": {},
          "execution_count": 2
        }
      ]
    },
    {
      "cell_type": "code",
      "source": [
        "for key, value in item_details.items():\n",
        "  print(f'The {key} costs {value[0]}')"
      ],
      "metadata": {
        "colab": {
          "base_uri": "https://localhost:8080/"
        },
        "id": "Obx1ANMdoJjv",
        "outputId": "1023af19-39f8-4f0e-b1ee-2ecbc280c0e7"
      },
      "execution_count": null,
      "outputs": [
        {
          "output_type": "stream",
          "name": "stdout",
          "text": [
            "The skis costs 249.99\n",
            "The snowboard costs 219.99\n",
            "The Goggles costs 99\n",
            "The boots costs 79.99\n"
          ]
        }
      ]
    },
    {
      "cell_type": "code",
      "source": [
        "item_details['bindings'] = [129.36,0,'Sold out']\n",
        "item_details\n"
      ],
      "metadata": {
        "colab": {
          "base_uri": "https://localhost:8080/"
        },
        "id": "8EHc2BBIozOR",
        "outputId": "c84276aa-0dc4-484d-c835-a56295fcfb72"
      },
      "execution_count": null,
      "outputs": [
        {
          "output_type": "execute_result",
          "data": {
            "text/plain": [
              "{'skis': [249.99, 10],\n",
              " 'snowboard': [219.99, 0],\n",
              " 'Goggles': [99, 0],\n",
              " 'boots': [79.99, 0],\n",
              " 'bindings': [129.36, 0, 'Sold out']}"
            ]
          },
          "metadata": {},
          "execution_count": 4
        }
      ]
    },
    {
      "cell_type": "code",
      "source": [
        "item_details.get('bindings')"
      ],
      "metadata": {
        "colab": {
          "base_uri": "https://localhost:8080/"
        },
        "id": "DDCFfdn7ppi-",
        "outputId": "cdc672be-4462-4dbd-95ec-dc9ab0720584"
      },
      "execution_count": null,
      "outputs": [
        {
          "output_type": "execute_result",
          "data": {
            "text/plain": [
              "[129.36, 0, 'Sold out']"
            ]
          },
          "metadata": {},
          "execution_count": 5
        }
      ]
    },
    {
      "cell_type": "code",
      "source": [
        "del item_details['bindings']\n",
        "item_details"
      ],
      "metadata": {
        "colab": {
          "base_uri": "https://localhost:8080/"
        },
        "id": "OQd6m_Uzpxck",
        "outputId": "1db43f73-78fc-4696-d4c3-df12e07612dd"
      },
      "execution_count": null,
      "outputs": [
        {
          "output_type": "execute_result",
          "data": {
            "text/plain": [
              "{'skis': [249.99, 10],\n",
              " 'snowboard': [219.99, 0],\n",
              " 'Goggles': [99, 0],\n",
              " 'boots': [79.99, 0]}"
            ]
          },
          "metadata": {},
          "execution_count": 6
        }
      ]
    },
    {
      "cell_type": "code",
      "source": [
        "item_details.update({'bindings':[238.69,0,'sold out']})\n",
        "item_details"
      ],
      "metadata": {
        "colab": {
          "base_uri": "https://localhost:8080/"
        },
        "id": "4j26iJYLp7D8",
        "outputId": "fd44523b-476e-4d8d-ac51-e1286475f5a1"
      },
      "execution_count": null,
      "outputs": [
        {
          "output_type": "execute_result",
          "data": {
            "text/plain": [
              "{'skis': [249.99, 10],\n",
              " 'snowboard': [219.99, 0],\n",
              " 'Goggles': [99, 0],\n",
              " 'boots': [79.99, 0],\n",
              " 'bindings': [238.69, 0, 'sold out']}"
            ]
          },
          "metadata": {},
          "execution_count": 7
        }
      ]
    },
    {
      "cell_type": "code",
      "source": [
        "alunos = {'Erbert':[10,7,'Aprovado'],\n",
        "          'Everton':[10,10, 'Aprovado'],\n",
        "          'Matheus':[10,6,'Aprovado'],\n",
        "          'Thomazin':[10,8,'Aprovado']}\n",
        "\n",
        "new_alunos = {'Messi':[10,10,'Aprovado'],\n",
        "              'Cristiano Ronaldo':[10,10,'Aprovado'],\n",
        "              'Cosme':[0,0,'Reprovado']}\n",
        "\n",
        "alunos.update(new_alunos)\n",
        "alunos"
      ],
      "metadata": {
        "colab": {
          "base_uri": "https://localhost:8080/"
        },
        "id": "4JbGFryDqvQM",
        "outputId": "7411c530-f9f5-45ac-f6dd-1454daecc496"
      },
      "execution_count": null,
      "outputs": [
        {
          "output_type": "execute_result",
          "data": {
            "text/plain": [
              "{'Erbert': [10, 7, 'Aprovado'],\n",
              " 'Everton': [10, 10, 'Aprovado'],\n",
              " 'Matheus': [10, 6, 'Aprovado'],\n",
              " 'Thomazin': [10, 8, 'Aprovado'],\n",
              " 'Messi': [10, 10, 'Aprovado'],\n",
              " 'Cristiano Ronaldo': [10, 10, 'Aprovado'],\n",
              " 'Cosme': [0, 0, 'Reprovado']}"
            ]
          },
          "metadata": {},
          "execution_count": 8
        }
      ]
    },
    {
      "cell_type": "code",
      "source": [
        "# MAVEN- METHODS\n",
        "list_compras = {'caderno':10,\n",
        "                'caneta':2}\n",
        "new_items = ['coffee','milk']\n",
        "new_prices = [5.99, 10.70]\n",
        "\n",
        "for i, item in enumerate(new_items):\n",
        "  list_compras[item] = new_prices[i]\n",
        "list_compras\n",
        "\n",
        "\n"
      ],
      "metadata": {
        "id": "UJ387Q6kshsF",
        "colab": {
          "base_uri": "https://localhost:8080/"
        },
        "outputId": "db86bbcb-b29a-47d0-8800-0cd9a39040e5"
      },
      "execution_count": null,
      "outputs": [
        {
          "output_type": "execute_result",
          "data": {
            "text/plain": [
              "{'caderno': 10, 'caneta': 2, 'coffee': 5.99, 'milk': 10.7}"
            ]
          },
          "metadata": {},
          "execution_count": 2
        }
      ]
    },
    {
      "cell_type": "code",
      "source": [
        "item_details = {'botina':[249.99,10],\n",
        "                'sapato':[219.99,0],\n",
        "                'óculos':[99.99,0],\n",
        "                'meias':[40,0]}\n",
        "for key, value in enumerate(item_details):\n",
        "  print(f'The {key} costs {value[0]} dollars')"
      ],
      "metadata": {
        "colab": {
          "base_uri": "https://localhost:8080/"
        },
        "id": "Fd8yLbNwMi54",
        "outputId": "a7ce9c21-7eb6-401b-afcf-4d889d07f25d"
      },
      "execution_count": null,
      "outputs": [
        {
          "output_type": "stream",
          "name": "stdout",
          "text": [
            "The 0 costs b dollars\n",
            "The 1 costs s dollars\n",
            "The 2 costs ó dollars\n",
            "The 3 costs m dollars\n"
          ]
        }
      ]
    },
    {
      "cell_type": "code",
      "source": [
        "item_details.get('meias')"
      ],
      "metadata": {
        "colab": {
          "base_uri": "https://localhost:8080/"
        },
        "id": "dwIaQn7GOIZ_",
        "outputId": "957746fc-9e7a-4a7b-e7a0-e24fa5467f32"
      },
      "execution_count": null,
      "outputs": [
        {
          "output_type": "execute_result",
          "data": {
            "text/plain": [
              "[40, 0]"
            ]
          },
          "metadata": {},
          "execution_count": 4
        }
      ]
    },
    {
      "cell_type": "code",
      "source": [
        "item_details.update({'camisa':[10,0,'out of stock']})\n",
        "item_details"
      ],
      "metadata": {
        "colab": {
          "base_uri": "https://localhost:8080/"
        },
        "id": "_REFLBwbukVD",
        "outputId": "346bab8c-0dd0-4a2b-b398-34a376f85c0a"
      },
      "execution_count": null,
      "outputs": [
        {
          "output_type": "execute_result",
          "data": {
            "text/plain": [
              "{'botina': [249.99, 10],\n",
              " 'sapato': [219.99, 0],\n",
              " 'óculos': [99.99, 0],\n",
              " 'meias': [40, 0],\n",
              " 'camisa': [10, 0, 'out of stock']}"
            ]
          },
          "metadata": {},
          "execution_count": 5
        }
      ]
    },
    {
      "cell_type": "code",
      "source": [
        "tenis = {'nike':[250, 25,'in stock'],\n",
        "         'addidas': [360,0,'out of stock']}\n",
        "tenis"
      ],
      "metadata": {
        "colab": {
          "base_uri": "https://localhost:8080/"
        },
        "id": "rYJJRbydu36M",
        "outputId": "2e6ba50e-ea1f-4323-d481-6411364dc1de"
      },
      "execution_count": null,
      "outputs": [
        {
          "output_type": "execute_result",
          "data": {
            "text/plain": [
              "{'nike': [250, 25, 'in stock'], 'addidas': [360, 0, 'out of stock']}"
            ]
          },
          "metadata": {},
          "execution_count": 7
        }
      ]
    },
    {
      "cell_type": "code",
      "source": [
        "item_details.update(tenis)\n",
        "item_details"
      ],
      "metadata": {
        "colab": {
          "base_uri": "https://localhost:8080/"
        },
        "id": "R6V_xlcjvTdb",
        "outputId": "a840f7bb-5d82-42ab-a96a-75d7fde345fd"
      },
      "execution_count": null,
      "outputs": [
        {
          "output_type": "execute_result",
          "data": {
            "text/plain": [
              "{'botina': [249.99, 10],\n",
              " 'sapato': [219.99, 0],\n",
              " 'óculos': [99.99, 0],\n",
              " 'meias': [40, 0],\n",
              " 'camisa': [10, 0, 'out of stock'],\n",
              " 'nike': [250, 25, 'in stock'],\n",
              " 'addidas': [360, 0, 'out of stock']}"
            ]
          },
          "metadata": {},
          "execution_count": 8
        }
      ]
    },
    {
      "cell_type": "code",
      "source": [
        "# MAVEN - DICT DEMO\n",
        "customer_sales = {\n",
        "    'C1':[244, 57],\n",
        "    'C4':[125.50],\n",
        "    'C14':[90,70,50],\n",
        "    'C15':[25,50,75,100]\n",
        "}\n",
        "\n",
        "customer_ids = list(customer_sales.keys())\n",
        "customer_ids"
      ],
      "metadata": {
        "id": "GcUDXLZRviAa",
        "colab": {
          "base_uri": "https://localhost:8080/"
        },
        "outputId": "55ef9cc1-a08b-474b-affe-96670a0384b7"
      },
      "execution_count": null,
      "outputs": [
        {
          "output_type": "execute_result",
          "data": {
            "text/plain": [
              "['C1', 'C4', 'C14', 'C15']"
            ]
          },
          "metadata": {},
          "execution_count": 2
        }
      ]
    },
    {
      "cell_type": "code",
      "source": [
        "customer_sales = {\n",
        "    'C1':[244, 57],\n",
        "    'C4':[125.50],\n",
        "    'C14':[90,70,50],\n",
        "    'C15':[25,50,75,100]\n",
        "}\n",
        "customer_sales.values()\n",
        "customer_values = list(customer_sales.values())\n",
        "customer_values"
      ],
      "metadata": {
        "id": "YM1KX2NBt8aV",
        "colab": {
          "base_uri": "https://localhost:8080/"
        },
        "outputId": "e2f5e0af-a859-431b-8034-23bb9f4e6d81"
      },
      "execution_count": null,
      "outputs": [
        {
          "output_type": "execute_result",
          "data": {
            "text/plain": [
              "[[244, 57], [125.5], [90, 70, 50], [25, 50, 75, 100]]"
            ]
          },
          "metadata": {},
          "execution_count": 7
        }
      ]
    },
    {
      "cell_type": "code",
      "source": [
        "for sales in customer_sales.values():\n",
        "  print(sum(sales))"
      ],
      "metadata": {
        "colab": {
          "base_uri": "https://localhost:8080/"
        },
        "id": "GwaSCD3xu1Od",
        "outputId": "f947a8dc-999e-4067-f9ec-e2626e513de3"
      },
      "execution_count": null,
      "outputs": [
        {
          "output_type": "stream",
          "name": "stdout",
          "text": [
            "301\n",
            "125.5\n",
            "210\n",
            "250\n"
          ]
        }
      ]
    },
    {
      "cell_type": "code",
      "source": [
        "total_sales = {}\n",
        "\n",
        "for customer_id, sales in customer_sales.items():\n",
        "  total_sales[customer_id] = sum(sales)\n",
        "total_sales"
      ],
      "metadata": {
        "colab": {
          "base_uri": "https://localhost:8080/"
        },
        "id": "ggL7GSuCwOHu",
        "outputId": "3aac6545-3bb0-4957-bc31-cb81f4f8ac14"
      },
      "execution_count": null,
      "outputs": [
        {
          "output_type": "execute_result",
          "data": {
            "text/plain": [
              "{'C1': 301, 'C4': 125.5, 'C14': 210, 'C15': 250}"
            ]
          },
          "metadata": {},
          "execution_count": 10
        }
      ]
    },
    {
      "cell_type": "code",
      "source": [
        "vip_customers = [\"C1\",\"C3\",\"C14\"]\n",
        "\n",
        "for customer in vip_customers:\n",
        "  print(customer_sales.get(customer))"
      ],
      "metadata": {
        "colab": {
          "base_uri": "https://localhost:8080/"
        },
        "id": "vp6m5obJxbqc",
        "outputId": "43f43b01-d937-43f4-c2ae-30ad9b8de66a"
      },
      "execution_count": null,
      "outputs": [
        {
          "output_type": "stream",
          "name": "stdout",
          "text": [
            "[244, 57]\n",
            "None\n",
            "[90, 70, 50]\n"
          ]
        }
      ]
    },
    {
      "cell_type": "code",
      "source": [
        "new_customers = {'C5':[105],'C22':[30]}\n",
        "customer_sales.update(new_customers)\n",
        "customer_sales"
      ],
      "metadata": {
        "colab": {
          "base_uri": "https://localhost:8080/"
        },
        "id": "YGsQC8UG1whe",
        "outputId": "63779ccb-9676-428d-edb2-eac8b41d466a"
      },
      "execution_count": null,
      "outputs": [
        {
          "output_type": "execute_result",
          "data": {
            "text/plain": [
              "{'C1': [244, 57],\n",
              " 'C4': [125.5],\n",
              " 'C14': [90, 70, 50],\n",
              " 'C15': [25, 50, 75, 100],\n",
              " 'C5': [105],\n",
              " 'C22': [30]}"
            ]
          },
          "metadata": {},
          "execution_count": 13
        }
      ]
    },
    {
      "cell_type": "code",
      "source": [
        "# the .items() method returns key-value pairs from a dictionary as a list of tuples\n",
        "\n",
        "item_compras = {\n",
        "    'skis':[250,10],\n",
        "    'snowboard':[220,0],\n",
        "    'goggles':[100,0],\n",
        "    'boots':[80,7]\n",
        "}\n",
        "\n",
        "item_compras.items()\n"
      ],
      "metadata": {
        "colab": {
          "base_uri": "https://localhost:8080/"
        },
        "id": "juOM5Xg5XaBI",
        "outputId": "2f78b900-9b23-4429-f263-9e1dc0d03b50"
      },
      "execution_count": null,
      "outputs": [
        {
          "output_type": "execute_result",
          "data": {
            "text/plain": [
              "dict_items([('skis', [250, 10]), ('snowboard', [220, 0]), ('goggles', [100, 0]), ('boots', [80, 7])])"
            ]
          },
          "metadata": {},
          "execution_count": 1
        }
      ]
    },
    {
      "cell_type": "code",
      "source": [
        "for k, v in item_compras.items():\n",
        "  print(f'the {k} costs {v[0]} reais')\n",
        "\n"
      ],
      "metadata": {
        "colab": {
          "base_uri": "https://localhost:8080/"
        },
        "id": "oaUiEGITY5LC",
        "outputId": "b9570acf-9aca-4b3e-df7c-478a60699a2c"
      },
      "execution_count": null,
      "outputs": [
        {
          "output_type": "stream",
          "name": "stdout",
          "text": [
            "the skis costs 250 reais\n",
            "the snowboard costs 220 reais\n",
            "the goggles costs 100 reais\n",
            "the boots costs 80 reais\n"
          ]
        }
      ]
    },
    {
      "cell_type": "code",
      "source": [
        "# REVISÃO - MAVEN\n",
        "# The .keys() method returns the keys from a dictionary\n",
        "list_trekking =  {'Garrafinha':[250,10,'in stock'],\n",
        "                  'camiseta':[250,0,'sold out'],\n",
        "                  'botas':[100,0,'sold out'],\n",
        "                  'mochila':[80,7,'in stock']}\n",
        "list_trekking.keys()\n"
      ],
      "metadata": {
        "colab": {
          "base_uri": "https://localhost:8080/"
        },
        "id": "JtL8A5wAELRi",
        "outputId": "911bc38c-ec54-465c-87d7-8fe034cbe8dc"
      },
      "execution_count": 1,
      "outputs": [
        {
          "output_type": "execute_result",
          "data": {
            "text/plain": [
              "dict_keys(['Garrafinha', 'camiseta', 'botas', 'mochila'])"
            ]
          },
          "metadata": {},
          "execution_count": 1
        }
      ]
    },
    {
      "cell_type": "code",
      "source": [
        "# The .values() method returns teh values from a dictionary\n",
        "list_trekking.values()"
      ],
      "metadata": {
        "colab": {
          "base_uri": "https://localhost:8080/"
        },
        "id": "_cRJw5QsFpWa",
        "outputId": "90bbd89d-3c6c-4463-ea9a-56115c4d18ee"
      },
      "execution_count": 2,
      "outputs": [
        {
          "output_type": "execute_result",
          "data": {
            "text/plain": [
              "dict_values([[250, 10, 'in stock'], [250, 0, 'sold out'], [100, 0, 'sold out'], [80, 7, 'in stock']])"
            ]
          },
          "metadata": {},
          "execution_count": 2
        }
      ]
    },
    {
      "cell_type": "code",
      "source": [
        "# PASSANDO SOMENTE OS VALORES DE PREÇO PARA DENTRO DE price_list\n",
        "price_list = []\n",
        "for price in list_trekking.values():\n",
        "  price_list.append(price[0])\n",
        "price_list\n"
      ],
      "metadata": {
        "colab": {
          "base_uri": "https://localhost:8080/"
        },
        "id": "fixOmxvjGCI8",
        "outputId": "4be18010-650e-4a50-bbaa-c3d9c457a535"
      },
      "execution_count": 4,
      "outputs": [
        {
          "output_type": "execute_result",
          "data": {
            "text/plain": [
              "[250, 250, 100, 80]"
            ]
          },
          "metadata": {},
          "execution_count": 4
        }
      ]
    },
    {
      "cell_type": "code",
      "source": [
        "# ITEMS\n",
        "# The .items() method returns key-value pairs from a dictionary as a list of tuples\n",
        "\n",
        "list_trekking.items()"
      ],
      "metadata": {
        "colab": {
          "base_uri": "https://localhost:8080/"
        },
        "id": "9vZdcNIuHHqF",
        "outputId": "002aff04-ccd7-465b-8007-8d19c8690fbc"
      },
      "execution_count": 5,
      "outputs": [
        {
          "output_type": "execute_result",
          "data": {
            "text/plain": [
              "dict_items([('Garrafinha', [250, 10, 'in stock']), ('camiseta', [250, 0, 'sold out']), ('botas', [100, 0, 'sold out']), ('mochila', [80, 7, 'in stock'])])"
            ]
          },
          "metadata": {},
          "execution_count": 5
        }
      ]
    },
    {
      "cell_type": "code",
      "source": [
        "# olha que doido:\n",
        "for k, v in list_trekking.items():\n",
        "  print(f'{k} custa R$ {v[0]}')\n"
      ],
      "metadata": {
        "colab": {
          "base_uri": "https://localhost:8080/"
        },
        "id": "RDjQskPEHjC6",
        "outputId": "9e912d9e-5bb1-4c99-c4eb-579b49481772"
      },
      "execution_count": 6,
      "outputs": [
        {
          "output_type": "stream",
          "name": "stdout",
          "text": [
            "Garrafinha custa R$ 250\n",
            "camiseta custa R$ 250\n",
            "botas custa R$ 100\n",
            "mochila custa R$ 80\n"
          ]
        }
      ]
    },
    {
      "cell_type": "code",
      "source": [
        "# Atribuindo novas chaves\n",
        "list_trekking['meias'] = [50,20,'in stock']\n",
        "list_trekking"
      ],
      "metadata": {
        "colab": {
          "base_uri": "https://localhost:8080/"
        },
        "id": "yDfCjGHSIot5",
        "outputId": "6dee644e-349f-481d-93c9-6f9f59e38160"
      },
      "execution_count": 7,
      "outputs": [
        {
          "output_type": "execute_result",
          "data": {
            "text/plain": [
              "{'Garrafinha': [250, 10, 'in stock'],\n",
              " 'camiseta': [250, 0, 'sold out'],\n",
              " 'botas': [100, 0, 'sold out'],\n",
              " 'mochila': [80, 7, 'in stock'],\n",
              " 'meias': [50, 20, 'in stock']}"
            ]
          },
          "metadata": {},
          "execution_count": 7
        }
      ]
    },
    {
      "cell_type": "code",
      "source": [
        "# The update() method appends key-value pairs to a dictionary\n",
        "new_trekking = {'óculos':[150,10,'in stock']}\n",
        "\n",
        "list_trekking.update(new_trekking) # this is the preffered way to combine dictionaries\n",
        "list_trekking\n",
        "\n"
      ],
      "metadata": {
        "colab": {
          "base_uri": "https://localhost:8080/"
        },
        "id": "FipqEGlqJQQB",
        "outputId": "1241a9c1-5351-47a5-95c6-cd3d19f96415"
      },
      "execution_count": 9,
      "outputs": [
        {
          "output_type": "execute_result",
          "data": {
            "text/plain": [
              "{'Garrafinha': [250, 10, 'in stock'],\n",
              " 'camiseta': [250, 0, 'sold out'],\n",
              " 'botas': [100, 0, 'sold out'],\n",
              " 'mochila': [80, 7, 'in stock'],\n",
              " 'meias': [50, 20, 'in stock'],\n",
              " 'óculos': [150, 10, 'in stock']}"
            ]
          },
          "metadata": {},
          "execution_count": 9
        }
      ]
    },
    {
      "cell_type": "code",
      "source": [
        "# GET() method returns the values associated with a dictionary key\n",
        "list_trekking.get('meias')\n"
      ],
      "metadata": {
        "colab": {
          "base_uri": "https://localhost:8080/"
        },
        "id": "ktV5vibAI8L-",
        "outputId": "4a249722-b42a-492f-8642-33adb47c7f20"
      },
      "execution_count": 8,
      "outputs": [
        {
          "output_type": "execute_result",
          "data": {
            "text/plain": [
              "[50, 20, 'in stock']"
            ]
          },
          "metadata": {},
          "execution_count": 8
        }
      ]
    },
    {
      "cell_type": "code",
      "source": [
        "# DICIONÁRIOS - GUSTAVO GUANABARA\n",
        "# EXEMPLO PRÓPRIO\n",
        "# Quando for trabalhar com f formatado, voce tem que colocar dentro de aspas duplas\n",
        "pessoas ={'nome': 'Erbert',\n",
        "          'sexo':'M',\n",
        "          'idade': 30\n",
        "}\n",
        "\n",
        "pessoas['nome']\n"
      ],
      "metadata": {
        "id": "_HqTmrtW2zWb",
        "colab": {
          "base_uri": "https://localhost:8080/",
          "height": 35
        },
        "outputId": "31b551bc-13bb-4783-b548-4532d538648a"
      },
      "execution_count": null,
      "outputs": [
        {
          "output_type": "execute_result",
          "data": {
            "text/plain": [
              "'Erbert'"
            ],
            "application/vnd.google.colaboratory.intrinsic+json": {
              "type": "string"
            }
          },
          "metadata": {},
          "execution_count": 5
        }
      ]
    },
    {
      "cell_type": "code",
      "source": [],
      "metadata": {
        "id": "vdNQNS0WHD3F"
      },
      "execution_count": null,
      "outputs": []
    },
    {
      "cell_type": "code",
      "source": [
        "pessoas ={'nome': 'Erbert',\n",
        "          'sexo':'M',\n",
        "          'idade': 30\n",
        "}\n",
        "pessoas['nome'] = 'Gustavo'\n",
        "pessoas['peso'] = 89\n",
        "for k in pessoas.values():\n",
        " print(k)\n",
        "\n"
      ],
      "metadata": {
        "colab": {
          "base_uri": "https://localhost:8080/"
        },
        "id": "y4IYKTUyXYSE",
        "outputId": "aa24a17f-62f6-4ee9-bdba-e37e70757cea"
      },
      "execution_count": null,
      "outputs": [
        {
          "output_type": "stream",
          "name": "stdout",
          "text": [
            "Gustavo\n",
            "M\n",
            "30\n",
            "89\n"
          ]
        }
      ]
    },
    {
      "cell_type": "code",
      "source": [],
      "metadata": {
        "colab": {
          "base_uri": "https://localhost:8080/"
        },
        "id": "rqqVpUmGrP2g",
        "outputId": "156c2108-f6a7-42a6-fdf4-4d75e62265cb"
      },
      "execution_count": null,
      "outputs": [
        {
          "output_type": "stream",
          "name": "stdout",
          "text": [
            "O Erbert tem 30 anos\n"
          ]
        }
      ]
    },
    {
      "cell_type": "code",
      "source": [
        "# aqui você não precisa do enumerate\n",
        "for k, v in pessoas.items():\n",
        "  print(f'{k} = {v}')\n",
        "\n",
        "\n"
      ],
      "metadata": {
        "colab": {
          "base_uri": "https://localhost:8080/"
        },
        "id": "tAbBjvJgsD-9",
        "outputId": "5dcc281e-0644-4ec2-d52c-01879aee0f52"
      },
      "execution_count": null,
      "outputs": [
        {
          "output_type": "stream",
          "name": "stdout",
          "text": [
            "nome = Erbert\n",
            "sexo = M\n",
            "idade = 30\n"
          ]
        }
      ]
    },
    {
      "cell_type": "code",
      "source": [
        "\n",
        "# Lista com dicionários\n",
        "brasil = []\n",
        "estado1 = {'uf':'Rio de Janeiro','sigla':'RJ'}\n",
        "estado2 = {'uf':'São Paulo','sigla':'SP'}\n",
        "brasil.append(estado1)\n",
        "brasil.append(estado2)\n",
        "\n",
        "print(brasil[0]['uf'])\n",
        "\n"
      ],
      "metadata": {
        "id": "8co0NwMw8TLO",
        "colab": {
          "base_uri": "https://localhost:8080/"
        },
        "outputId": "1c5baaba-3751-4215-cdda-96c4d83012dd"
      },
      "execution_count": null,
      "outputs": [
        {
          "output_type": "stream",
          "name": "stdout",
          "text": [
            "Rio de Janeiro\n"
          ]
        }
      ]
    },
    {
      "cell_type": "code",
      "source": [
        "# Para passar dicionários para dentro de listas, temos que usar o método COPY()\n",
        "estado = dict()\n",
        "brasil = list()\n",
        "\n",
        "for c in range(0,3):\n",
        "  estado['UF'] = str(input('Unidade Federativa: '))\n",
        "  estado['Sigla'] = str(input('Sigla: '))\n",
        "  brasil.append(estado.copy())\n",
        "\n",
        "for e in brasil: # cada e é um dicionário (estado + sigla)\n",
        "  for v in e.values():\n",
        "    print(f'{v}', end=\" \") # Trazendo somente as chaves\n"
      ],
      "metadata": {
        "colab": {
          "base_uri": "https://localhost:8080/"
        },
        "id": "uA8a_pJdeR79",
        "outputId": "8c0ab7d7-062b-4830-8d0e-06aec0f6795b"
      },
      "execution_count": null,
      "outputs": [
        {
          "output_type": "stream",
          "name": "stdout",
          "text": [
            "Unidade Federativa: São Paulo\n",
            "Sigla: SP\n",
            "Unidade Federativa: Minas Gerais\n",
            "Sigla: MG\n",
            "Unidade Federativa: Rio de Janeiro\n",
            "Sigla: RJ\n",
            "São Paulo SP Minas Gerais MG Rio de Janeiro RJ "
          ]
        }
      ]
    },
    {
      "cell_type": "code",
      "source": [
        "estado = dict()\n",
        "brasil = list()\n",
        "\n",
        "for c in range(0,3):\n",
        "  estado['UF'] = str(input('Unidade Federativa: '))\n",
        "  estado['Sigla'] = str(input('Sigla: '))\n",
        "  brasil.append(estado.copy())\n",
        "\n",
        "for e in brasil: # cada e é um dicionário dentro da lista Brasil (estado + sigla)\n",
        "  for k, v in estado2.items():\n",
        "    print(f'{k} tem valor {v}')\n"
      ],
      "metadata": {
        "colab": {
          "base_uri": "https://localhost:8080/"
        },
        "id": "yQ9AK9k4jngw",
        "outputId": "9d9c0b63-d4cb-4040-c9f2-b0e0746544bb"
      },
      "execution_count": null,
      "outputs": [
        {
          "output_type": "stream",
          "name": "stdout",
          "text": [
            "Unidade Federativa: Minas Gerais\n",
            "Sigla: MG\n",
            "Unidade Federativa: Rio de Janeiro\n",
            "Sigla: RJ\n",
            "Unidade Federativa: Rio Grande do Sul\n",
            "Sigla: RS\n",
            "uf tem valor São Paulo\n",
            "sigla tem valor SP\n",
            "uf tem valor São Paulo\n",
            "sigla tem valor SP\n",
            "uf tem valor São Paulo\n",
            "sigla tem valor SP\n"
          ]
        }
      ]
    },
    {
      "cell_type": "markdown",
      "source": [
        "REVISÃO - GUSTAVO GUANABARA"
      ],
      "metadata": {
        "id": "dLeIe8Cw0GWs"
      }
    },
    {
      "cell_type": "code",
      "source": [
        "pessoas ={'nome':'Erbert',\n",
        "          'sexo':'M',\n",
        "          'idade':30,\n",
        "          }\n",
        "for k, v in pessoas.items():\n",
        "  print(f'O {k} é {v}')\n"
      ],
      "metadata": {
        "colab": {
          "base_uri": "https://localhost:8080/"
        },
        "id": "wgi4kKdd0JeV",
        "outputId": "e75da436-5822-417c-8659-6f5a0d83d28a"
      },
      "execution_count": null,
      "outputs": [
        {
          "output_type": "stream",
          "name": "stdout",
          "text": [
            "O nome é Erbert\n",
            "O sexo é M\n",
            "O idade é 30\n"
          ]
        }
      ]
    },
    {
      "cell_type": "code",
      "source": [
        "# COPIANDO DICIONÁRIO PARA DENTRO DA LISTA\n",
        "estado = dict()\n",
        "brasil = list()\n",
        "\n",
        "for c in range(0,3):\n",
        "  estado['uf'] = str(input('Informe o Estado: '))\n",
        "  estado['sigla'] = str(input('Informe a sigla: '))\n",
        "  brasil.append(estado.copy())\n",
        "\n",
        "for e in brasil:\n",
        "  for k, v in e.items():\n",
        "    print(f'{k} tem sigla {v}')\n"
      ],
      "metadata": {
        "id": "7szBc1M10qIW",
        "colab": {
          "base_uri": "https://localhost:8080/"
        },
        "outputId": "de3bba98-ebfe-4e4e-f5d5-4fd2e408f02a"
      },
      "execution_count": 15,
      "outputs": [
        {
          "output_type": "stream",
          "name": "stdout",
          "text": [
            "Informe o Estado: Minas Gerais\n",
            "Informe a sigla: MG\n",
            "Informe o Estado: São Paulo\n",
            "Informe a sigla: SP\n",
            "Informe o Estado: Rio de Janeiro\n",
            "Informe a sigla: RJ\n",
            "uf tem sigla Minas Gerais\n",
            "sigla tem sigla MG\n",
            "uf tem sigla São Paulo\n",
            "sigla tem sigla SP\n",
            "uf tem sigla Rio de Janeiro\n",
            "sigla tem sigla RJ\n"
          ]
        }
      ]
    },
    {
      "cell_type": "code",
      "source": [],
      "metadata": {
        "id": "xWSYsHTcLzeM"
      },
      "execution_count": null,
      "outputs": []
    }
  ]
}